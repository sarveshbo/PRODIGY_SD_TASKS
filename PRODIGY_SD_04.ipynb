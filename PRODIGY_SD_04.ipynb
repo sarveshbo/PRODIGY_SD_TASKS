{
  "nbformat": 4,
  "nbformat_minor": 0,
  "metadata": {
    "colab": {
      "provenance": []
    },
    "kernelspec": {
      "name": "python3",
      "display_name": "Python 3"
    },
    "language_info": {
      "name": "python"
    }
  },
  "cells": [
    {
      "cell_type": "code",
      "source": [
        "def is_valid(board, row, col, num):\n",
        "    \"\"\"Check if placing 'num' in board[row][col] is valid.\"\"\"\n",
        "    # Check row and column\n",
        "    for i in range(9):\n",
        "        if board[row][i] == num or board[i][col] == num:\n",
        "            return False\n",
        "\n",
        "    # Check 3x3 subgrid\n",
        "    start_row, start_col = (row // 3) * 3, (col // 3) * 3\n",
        "    for i in range(3):\n",
        "        for j in range(3):\n",
        "            if board[start_row + i][start_col + j] == num:\n",
        "                return False\n",
        "\n",
        "    return True\n",
        "\n",
        "def solve_sudoku(board):\n",
        "    \"\"\"Solve the Sudoku puzzle using Backtracking.\"\"\"\n",
        "    for row in range(9):\n",
        "        for col in range(9):\n",
        "            if board[row][col] == 0:  # Find an empty cell\n",
        "                for num in range(1, 10):  # Try numbers 1 to 9\n",
        "                    if is_valid(board, row, col, num):\n",
        "                        board[row][col] = num  # Place the number\n",
        "\n",
        "                        if solve_sudoku(board):  # Recursively solve the next cell\n",
        "                            return True\n",
        "\n",
        "                        board[row][col] = 0  # Backtrack if no solution found\n",
        "\n",
        "                return False  # No valid number found, trigger backtracking\n",
        "\n",
        "    return True  # Puzzle solved\n",
        "\n",
        "def print_board(board):\n",
        "    \"\"\"Print the Sudoku board in a readable format.\"\"\"\n",
        "    for i in range(9):\n",
        "        if i % 3 == 0 and i != 0:\n",
        "            print(\"-\" * 21)  # Add horizontal separator\n",
        "        for j in range(9):\n",
        "            if j % 3 == 0 and j != 0:\n",
        "                print(\"| \", end=\"\")  # Add vertical separator\n",
        "            print(board[i][j] if board[i][j] != 0 else \".\", end=\" \")\n",
        "        print()\n",
        "\n",
        "# Example Sudoku puzzle (0 represents an empty cell)\n",
        "sudoku_board = [\n",
        "    [5, 3, 0, 0, 7, 0, 0, 0, 0],\n",
        "    [6, 0, 0, 1, 9, 5, 0, 0, 0],\n",
        "    [0, 9, 8, 0, 0, 0, 0, 6, 0],\n",
        "    [8, 0, 0, 0, 6, 0, 0, 0, 3],\n",
        "    [4, 0, 0, 8, 0, 3, 0, 0, 1],\n",
        "    [7, 0, 0, 0, 2, 0, 0, 0, 6],\n",
        "    [0, 6, 0, 0, 0, 0, 2, 8, 0],\n",
        "    [0, 0, 0, 4, 1, 9, 0, 0, 5],\n",
        "    [0, 0, 0, 0, 8, 0, 0, 7, 9]\n",
        "]\n",
        "\n",
        "print(\"🔢 Unsolved Sudoku Puzzle:\")\n",
        "print_board(sudoku_board)\n",
        "\n",
        "if solve_sudoku(sudoku_board):\n",
        "    print(\"\\n✅ Solved Sudoku Puzzle:\")\n",
        "    print_board(sudoku_board)\n",
        "else:\n",
        "    print(\"\\n❌ No solution exists for this Sudoku puzzle.\")\n"
      ],
      "metadata": {
        "colab": {
          "base_uri": "https://localhost:8080/"
        },
        "id": "9WUAGUZ0pNdr",
        "outputId": "1390253c-0cfd-4153-a929-2f475511b9c9"
      },
      "execution_count": null,
      "outputs": [
        {
          "output_type": "stream",
          "name": "stdout",
          "text": [
            "🔢 Unsolved Sudoku Puzzle:\n",
            "5 3 . | . 7 . | . . . \n",
            "6 . . | 1 9 5 | . . . \n",
            ". 9 8 | . . . | . 6 . \n",
            "---------------------\n",
            "8 . . | . 6 . | . . 3 \n",
            "4 . . | 8 . 3 | . . 1 \n",
            "7 . . | . 2 . | . . 6 \n",
            "---------------------\n",
            ". 6 . | . . . | 2 8 . \n",
            ". . . | 4 1 9 | . . 5 \n",
            ". . . | . 8 . | . 7 9 \n",
            "\n",
            "✅ Solved Sudoku Puzzle:\n",
            "5 3 4 | 6 7 8 | 9 1 2 \n",
            "6 7 2 | 1 9 5 | 3 4 8 \n",
            "1 9 8 | 3 4 2 | 5 6 7 \n",
            "---------------------\n",
            "8 5 9 | 7 6 1 | 4 2 3 \n",
            "4 2 6 | 8 5 3 | 7 9 1 \n",
            "7 1 3 | 9 2 4 | 8 5 6 \n",
            "---------------------\n",
            "9 6 1 | 5 3 7 | 2 8 4 \n",
            "2 8 7 | 4 1 9 | 6 3 5 \n",
            "3 4 5 | 2 8 6 | 1 7 9 \n"
          ]
        }
      ]
    }
  ]
}